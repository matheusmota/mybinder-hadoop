{
 "cells": [
  {
   "cell_type": "code",
   "execution_count": 1,
   "metadata": {},
   "outputs": [
    {
     "name": "stdout",
     "output_type": "stream",
     "text": [
      "--2019-06-21 21:45:54--  http://ftp.unicamp.br/pub/apache/hadoop/common/hadoop-2.9.2/hadoop-2.9.2.tar.gz\n",
      "Resolving ftp.unicamp.br (ftp.unicamp.br)... 143.106.10.149\n",
      "Connecting to ftp.unicamp.br (ftp.unicamp.br)|143.106.10.149|:80... connected.\n",
      "HTTP request sent, awaiting response... 200 OK\n",
      "Length: 366447449 (349M) [application/x-gzip]\n",
      "Saving to: ‘hadoop-2.9.2.tar.gz’\n",
      "\n",
      "hadoop-2.9.2.tar.gz 100%[===================>] 349.47M  18.5MB/s    in 20s     \n",
      "\n",
      "2019-06-21 21:46:14 (17.6 MB/s) - ‘hadoop-2.9.2.tar.gz’ saved [366447449/366447449]\n",
      "\n"
     ]
    }
   ],
   "source": [
    "! wget http://ftp.unicamp.br/pub/apache/hadoop/common/hadoop-2.9.2/hadoop-2.9.2.tar.gz"
   ]
  },
  {
   "cell_type": "code",
   "execution_count": 2,
   "metadata": {},
   "outputs": [],
   "source": [
    "!tar -xvf hadoop-2.9.2.tar.gz >/dev/null "
   ]
  },
  {
   "cell_type": "code",
   "execution_count": 4,
   "metadata": {},
   "outputs": [
    {
     "name": "stdout",
     "output_type": "stream",
     "text": [
      "readlink: missing operand\n",
      "Try 'readlink --help' for more information.\n",
      "dirname: missing operand\n",
      "Try 'dirname --help' for more information.\n",
      "dirname: missing operand\n",
      "Try 'dirname --help' for more information.\n"
     ]
    }
   ],
   "source": [
    "!dirname $(dirname $(readlink -f $(which javac)))"
   ]
  },
  {
   "cell_type": "code",
   "execution_count": 3,
   "metadata": {},
   "outputs": [
    {
     "name": "stdout",
     "output_type": "stream",
     "text": [
      "env: JAVA_HOME=/usr/lib/jvm/java-8-openjdk-amd64\n"
     ]
    }
   ],
   "source": [
    "%env JAVA_HOME /usr/lib/jvm/java-8-openjdk-amd64"
   ]
  },
  {
   "cell_type": "code",
   "execution_count": null,
   "metadata": {},
   "outputs": [],
   "source": []
  },
  {
   "cell_type": "code",
   "execution_count": null,
   "metadata": {},
   "outputs": [],
   "source": []
  }
 ],
 "metadata": {
  "kernelspec": {
   "display_name": "Python 3",
   "language": "python",
   "name": "python3"
  },
  "language_info": {
   "codemirror_mode": {
    "name": "ipython",
    "version": 3
   },
   "file_extension": ".py",
   "mimetype": "text/x-python",
   "name": "python",
   "nbconvert_exporter": "python",
   "pygments_lexer": "ipython3",
   "version": "3.7.3"
  }
 },
 "nbformat": 4,
 "nbformat_minor": 2
}
