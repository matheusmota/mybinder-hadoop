{
 "cells": [
  {
   "cell_type": "markdown",
   "metadata": {},
   "source": [
    "## Downloading Hadoop"
   ]
  },
  {
   "cell_type": "code",
   "execution_count": 1,
   "metadata": {},
   "outputs": [
    {
     "name": "stdout",
     "output_type": "stream",
     "text": [
      "env: HADOOP_VERSION=hadoop-2.9.2\n"
     ]
    }
   ],
   "source": [
    "%env HADOOP_VERSION hadoop-2.9.2"
   ]
  },
  {
   "cell_type": "code",
   "execution_count": 2,
   "metadata": {},
   "outputs": [
    {
     "name": "stdout",
     "output_type": "stream",
     "text": [
      "hadoop-2.9.2.tar.gz 100%[===================>] 349.47M  15.0MB/s    in 37s     \n"
     ]
    }
   ],
   "source": [
    "!wget http://ftp.unicamp.br/pub/apache/hadoop/common/${HADOOP_VERSION}/${HADOOP_VERSION}.tar.gz -q --show-progress"
   ]
  },
  {
   "cell_type": "markdown",
   "metadata": {},
   "source": [
    "### Extracting compressed files and removing .tar"
   ]
  },
  {
   "cell_type": "code",
   "execution_count": 3,
   "metadata": {},
   "outputs": [],
   "source": [
    "!tar -xvf ${HADOOP_VERSION}.tar.gz >/dev/null \n",
    "!rm       ${HADOOP_VERSION}.tar.gz"
   ]
  },
  {
   "cell_type": "markdown",
   "metadata": {},
   "source": [
    "### Discovering Java path"
   ]
  },
  {
   "cell_type": "code",
   "execution_count": 4,
   "metadata": {},
   "outputs": [
    {
     "name": "stdout",
     "output_type": "stream",
     "text": [
      "/usr/lib/jvm/java-8-openjdk-amd64\n"
     ]
    }
   ],
   "source": [
    "!dirname $(dirname $(readlink -f $(which javac)))"
   ]
  },
  {
   "cell_type": "markdown",
   "metadata": {},
   "source": [
    "### Setting Java path envvar\n",
    "\n",
    "We also added it to user's .bashrc so it will be loaded as the nodes perform ssh connections."
   ]
  },
  {
   "cell_type": "code",
   "execution_count": 5,
   "metadata": {},
   "outputs": [
    {
     "name": "stdout",
     "output_type": "stream",
     "text": [
      "env: JAVA_HOME=/usr/lib/jvm/java-8-openjdk-amd64\n"
     ]
    }
   ],
   "source": [
    "%env JAVA_HOME /usr/lib/jvm/java-8-openjdk-amd64"
   ]
  },
  {
   "cell_type": "code",
   "execution_count": 6,
   "metadata": {},
   "outputs": [],
   "source": [
    "!echo \"export JAVA_HOME=/usr/lib/jvm/java-8-openjdk-amd64 \" > .bashrc"
   ]
  },
  {
   "cell_type": "markdown",
   "metadata": {},
   "source": [
    "# Using Hadoop in Standalone Mode (local)"
   ]
  },
  {
   "cell_type": "code",
   "execution_count": null,
   "metadata": {},
   "outputs": [],
   "source": []
  },
  {
   "cell_type": "markdown",
   "metadata": {},
   "source": [
    "# Using Hadoop in Pseudo-Distributed Mode"
   ]
  },
  {
   "cell_type": "markdown",
   "metadata": {},
   "source": [
    "### Starting sshd server\n",
    "\n",
    "Check postBuild and sshd_config files for more details"
   ]
  },
  {
   "cell_type": "code",
   "execution_count": 7,
   "metadata": {},
   "outputs": [],
   "source": [
    "!/usr/sbin/sshd -f resources/configs/ssh/sshd_config "
   ]
  },
  {
   "cell_type": "markdown",
   "metadata": {},
   "source": [
    "### Adding to know hosts by establishing a ssh connectcion (avoiding yes/no host confirmation)"
   ]
  },
  {
   "cell_type": "code",
   "execution_count": 8,
   "metadata": {},
   "outputs": [
    {
     "name": "stdout",
     "output_type": "stream",
     "text": [
      "Warning: Permanently added '[localhost]:8822' (ECDSA) to the list of known hosts.\n",
      "Warning: Permanently added '[0.0.0.0]:8822' (ECDSA) to the list of known hosts.\n"
     ]
    }
   ],
   "source": [
    "!ssh -o \"StrictHostKeyChecking no\" $USER@localhost -p 8822 -C \"exit\" \n",
    "!ssh -o \"StrictHostKeyChecking no\" $USER@0.0.0.0   -p 8822 -C \"exit\""
   ]
  },
  {
   "cell_type": "markdown",
   "metadata": {},
   "source": [
    "### Copying configurations files to Hadoop folder"
   ]
  },
  {
   "cell_type": "code",
   "execution_count": 9,
   "metadata": {},
   "outputs": [],
   "source": [
    "!cp resources/configs/hadoop/* ${HADOOP_VERSION}/etc/hadoop/"
   ]
  },
  {
   "cell_type": "markdown",
   "metadata": {},
   "source": [
    "### Formating the filesystem"
   ]
  },
  {
   "cell_type": "code",
   "execution_count": null,
   "metadata": {},
   "outputs": [],
   "source": [
    "!./${HADOOP_VERSION}/bin/hdfs namenode -format -force -nonInteractive"
   ]
  },
  {
   "cell_type": "markdown",
   "metadata": {},
   "source": [
    "### Adding ssh options: running in a diferent port"
   ]
  },
  {
   "cell_type": "code",
   "execution_count": 11,
   "metadata": {},
   "outputs": [
    {
     "name": "stdout",
     "output_type": "stream",
     "text": [
      "env: HADOOP_SSH_OPTS=-p 8822\n"
     ]
    }
   ],
   "source": [
    "%env HADOOP_SSH_OPTS -p 8822 "
   ]
  },
  {
   "cell_type": "markdown",
   "metadata": {},
   "source": [
    "### Starting/stoping NameNode daemon and DataNode daemon"
   ]
  },
  {
   "cell_type": "code",
   "execution_count": 12,
   "metadata": {},
   "outputs": [
    {
     "name": "stdout",
     "output_type": "stream",
     "text": [
      "Starting namenodes on [localhost]\n",
      "localhost: starting namenode, logging to /home/jovyan/hadoop-2.9.2/logs/hadoop-jovyan-namenode-jupyter-thedatasociety-2dmybinder-2dhadoop-2drwzpz5yc.out\n",
      "localhost: starting datanode, logging to /home/jovyan/hadoop-2.9.2/logs/hadoop-jovyan-datanode-jupyter-thedatasociety-2dmybinder-2dhadoop-2drwzpz5yc.out\n",
      "Starting secondary namenodes [0.0.0.0]\n",
      "0.0.0.0: starting secondarynamenode, logging to /home/jovyan/hadoop-2.9.2/logs/hadoop-jovyan-secondarynamenode-jupyter-thedatasociety-2dmybinder-2dhadoop-2drwzpz5yc.out\n"
     ]
    }
   ],
   "source": [
    "!./${HADOOP_VERSION}/sbin/start-dfs.sh\n",
    "#!./${HADOOP_VERSION}/sbin/stop-dfs.sh"
   ]
  },
  {
   "cell_type": "markdown",
   "metadata": {},
   "source": [
    "### Creating folders in the distributed file system"
   ]
  },
  {
   "cell_type": "code",
   "execution_count": 13,
   "metadata": {},
   "outputs": [],
   "source": [
    "!./${HADOOP_VERSION}/bin/hdfs dfs -mkdir /user/\n",
    "!./${HADOOP_VERSION}/bin/hdfs dfs -mkdir /user/matheus/\n",
    "!./${HADOOP_VERSION}/bin/hdfs dfs -mkdir /user/matheus/input/"
   ]
  },
  {
   "cell_type": "markdown",
   "metadata": {},
   "source": [
    "### Copying a file to a folder in the distributed file system"
   ]
  },
  {
   "cell_type": "code",
   "execution_count": 14,
   "metadata": {},
   "outputs": [],
   "source": [
    "!./${HADOOP_VERSION}/bin/hdfs dfs -put ./resources/examples/newyorknewyork.txt /user/matheus/input/"
   ]
  },
  {
   "cell_type": "code",
   "execution_count": 15,
   "metadata": {},
   "outputs": [
    {
     "name": "stdout",
     "output_type": "stream",
     "text": [
      "Found 1 items\n",
      "-rw-r--r--   1 jovyan supergroup        865 2019-06-24 03:42 /user/matheus/input/newyorknewyork.txt\n"
     ]
    }
   ],
   "source": [
    "!./${HADOOP_VERSION}/bin/hdfs dfs -ls /user/matheus/input/"
   ]
  },
  {
   "cell_type": "code",
   "execution_count": 16,
   "metadata": {},
   "outputs": [
    {
     "name": "stdout",
     "output_type": "stream",
     "text": [
      "Start spreading the news\n",
      "I am leaving today\n",
      "I want to be a part of it\n",
      "New York New York\n",
      "These vagabond shoes\n",
      "They are longing to stray\n",
      "Right through the very heart of it\n",
      "New York New York\n",
      "I want to wake up in that city\n",
      "That doesn't sleep\n",
      "And find I'm king of the hill\n",
      "Top of the heap\n",
      "My little town blues\n",
      "They are melting away\n",
      "I gonna make a brand new start of it\n",
      "In old New York\n",
      "If I can make it there\n",
      "I'll make it anywhere\n",
      "It's up to you\n",
      "New York New York\n",
      "New York New York\n",
      "I want to wake up in that city\n",
      "That never sleeps\n",
      "And find I'm king of the hill\n",
      "Top of the list\n",
      "Head of the heap\n",
      "King of the hill\n",
      "These are little town blues\n",
      "They have all melted away\n",
      "I am about to make a brand new start of it\n",
      "Right there in old New York\n",
      "And you bet baby\n",
      "If I can make it there\n",
      "You know I'm gonna make it just about anywhere\n",
      "Come on come through\n",
      "New York New York New York\n"
     ]
    }
   ],
   "source": [
    "!./${HADOOP_VERSION}/bin/hdfs dfs -cat /user/matheus/input/newyorknewyork.txt"
   ]
  },
  {
   "cell_type": "markdown",
   "metadata": {},
   "source": [
    "# Running YARN on a single node"
   ]
  },
  {
   "cell_type": "code",
   "execution_count": 17,
   "metadata": {},
   "outputs": [
    {
     "name": "stdout",
     "output_type": "stream",
     "text": [
      "starting yarn daemons\n",
      "starting resourcemanager, logging to /home/jovyan/hadoop-2.9.2/logs/yarn-jovyan-resourcemanager-jupyter-thedatasociety-2dmybinder-2dhadoop-2drwzpz5yc.out\n",
      "localhost: starting nodemanager, logging to /home/jovyan/hadoop-2.9.2/logs/yarn-jovyan-nodemanager-jupyter-thedatasociety-2dmybinder-2dhadoop-2drwzpz5yc.out\n"
     ]
    }
   ],
   "source": [
    "!./${HADOOP_VERSION}/sbin/start-yarn.sh"
   ]
  },
  {
   "cell_type": "markdown",
   "metadata": {},
   "source": [
    "# Simple word count example"
   ]
  },
  {
   "cell_type": "code",
   "execution_count": 18,
   "metadata": {},
   "outputs": [
    {
     "name": "stdout",
     "output_type": "stream",
     "text": [
      "19/06/24 03:43:22 INFO client.RMProxy: Connecting to ResourceManager at /0.0.0.0:8032\n",
      "19/06/24 03:43:32 INFO input.FileInputFormat: Total input files to process : 1\n",
      "19/06/24 03:43:33 INFO mapreduce.JobSubmitter: number of splits:1\n",
      "19/06/24 03:43:34 INFO Configuration.deprecation: yarn.resourcemanager.system-metrics-publisher.enabled is deprecated. Instead, use yarn.system-metrics-publisher.enabled\n",
      "19/06/24 03:43:35 INFO mapreduce.JobSubmitter: Submitting tokens for job: job_1561347791672_0001\n",
      "19/06/24 03:43:37 INFO impl.YarnClientImpl: Submitted application application_1561347791672_0001\n",
      "19/06/24 03:43:38 INFO mapreduce.Job: The url to track the job: http://jupyter-thedatasociety-2dmybinder-2dhadoop-2drwzpz5yc:8088/proxy/application_1561347791672_0001/\n",
      "19/06/24 03:43:38 INFO mapreduce.Job: Running job: job_1561347791672_0001\n",
      "19/06/24 03:43:56 INFO mapreduce.Job: Job job_1561347791672_0001 running in uber mode : false\n",
      "19/06/24 03:43:56 INFO mapreduce.Job:  map 0% reduce 0%\n",
      "19/06/24 03:44:10 INFO mapreduce.Job:  map 100% reduce 0%\n",
      "19/06/24 03:44:20 INFO mapreduce.Job:  map 100% reduce 100%\n",
      "19/06/24 03:44:21 INFO mapreduce.Job: Job job_1561347791672_0001 completed successfully\n",
      "19/06/24 03:44:21 INFO mapreduce.Job: Counters: 49\n",
      "\tFile System Counters\n",
      "\t\tFILE: Number of bytes read=894\n",
      "\t\tFILE: Number of bytes written=398697\n",
      "\t\tFILE: Number of read operations=0\n",
      "\t\tFILE: Number of large read operations=0\n",
      "\t\tFILE: Number of write operations=0\n",
      "\t\tHDFS: Number of bytes read=989\n",
      "\t\tHDFS: Number of bytes written=571\n",
      "\t\tHDFS: Number of read operations=6\n",
      "\t\tHDFS: Number of large read operations=0\n",
      "\t\tHDFS: Number of write operations=2\n",
      "\tJob Counters \n",
      "\t\tLaunched map tasks=1\n",
      "\t\tLaunched reduce tasks=1\n",
      "\t\tData-local map tasks=1\n",
      "\t\tTotal time spent by all maps in occupied slots (ms)=11786\n",
      "\t\tTotal time spent by all reduces in occupied slots (ms)=7302\n",
      "\t\tTotal time spent by all map tasks (ms)=11786\n",
      "\t\tTotal time spent by all reduce tasks (ms)=7302\n",
      "\t\tTotal vcore-milliseconds taken by all map tasks=11786\n",
      "\t\tTotal vcore-milliseconds taken by all reduce tasks=7302\n",
      "\t\tTotal megabyte-milliseconds taken by all map tasks=12068864\n",
      "\t\tTotal megabyte-milliseconds taken by all reduce tasks=7477248\n",
      "\tMap-Reduce Framework\n",
      "\t\tMap input records=36\n",
      "\t\tMap output records=190\n",
      "\t\tMap output bytes=1625\n",
      "\t\tMap output materialized bytes=894\n",
      "\t\tInput split bytes=124\n",
      "\t\tCombine input records=190\n",
      "\t\tCombine output records=80\n",
      "\t\tReduce input groups=80\n",
      "\t\tReduce shuffle bytes=894\n",
      "\t\tReduce input records=80\n",
      "\t\tReduce output records=80\n",
      "\t\tSpilled Records=160\n",
      "\t\tShuffled Maps =1\n",
      "\t\tFailed Shuffles=0\n",
      "\t\tMerged Map outputs=1\n",
      "\t\tGC time elapsed (ms)=579\n",
      "\t\tCPU time spent (ms)=4820\n",
      "\t\tPhysical memory (bytes) snapshot=344100864\n",
      "\t\tVirtual memory (bytes) snapshot=3864395776\n",
      "\t\tTotal committed heap usage (bytes)=170004480\n",
      "\tShuffle Errors\n",
      "\t\tBAD_ID=0\n",
      "\t\tCONNECTION=0\n",
      "\t\tIO_ERROR=0\n",
      "\t\tWRONG_LENGTH=0\n",
      "\t\tWRONG_MAP=0\n",
      "\t\tWRONG_REDUCE=0\n",
      "\tFile Input Format Counters \n",
      "\t\tBytes Read=865\n",
      "\tFile Output Format Counters \n",
      "\t\tBytes Written=571\n"
     ]
    }
   ],
   "source": [
    "!./${HADOOP_VERSION}/bin/hadoop jar  ./${HADOOP_VERSION}/share/hadoop/mapreduce/hadoop-mapreduce-examples-2.9.2.jar wordcount \\\n",
    "                                      /user/matheus/input /user/matheus/output"
   ]
  },
  {
   "cell_type": "code",
   "execution_count": 19,
   "metadata": {},
   "outputs": [
    {
     "name": "stdout",
     "output_type": "stream",
     "text": [
      "Found 2 items\n",
      "-rw-r--r--   1 jovyan supergroup          0 2019-06-24 03:44 /user/matheus/output/_SUCCESS\n",
      "-rw-r--r--   1 jovyan supergroup        571 2019-06-24 03:44 /user/matheus/output/part-r-00000\n"
     ]
    }
   ],
   "source": [
    "!./${HADOOP_VERSION}/bin/hdfs dfs -ls /user/matheus/output/"
   ]
  },
  {
   "cell_type": "code",
   "execution_count": 20,
   "metadata": {},
   "outputs": [
    {
     "name": "stdout",
     "output_type": "stream",
     "text": [
      "And\t3\n",
      "Come\t1\n",
      "Head\t1\n",
      "I\t8\n",
      "I'll\t1\n",
      "I'm\t3\n",
      "If\t2\n",
      "In\t1\n",
      "It's\t1\n",
      "King\t1\n",
      "My\t1\n",
      "New\t13\n",
      "Right\t2\n",
      "Start\t1\n",
      "That\t2\n",
      "These\t2\n",
      "They\t3\n",
      "Top\t2\n",
      "York\t13\n",
      "You\t1\n",
      "a\t3\n",
      "about\t2\n",
      "all\t1\n",
      "am\t2\n",
      "anywhere\t2\n",
      "are\t3\n",
      "away\t2\n",
      "baby\t1\n",
      "be\t1\n",
      "bet\t1\n",
      "blues\t2\n",
      "brand\t2\n",
      "can\t2\n",
      "city\t2\n",
      "come\t1\n",
      "doesn't\t1\n",
      "find\t2\n",
      "gonna\t2\n",
      "have\t1\n",
      "heap\t2\n",
      "heart\t1\n",
      "hill\t3\n",
      "in\t3\n",
      "it\t8\n",
      "just\t1\n",
      "king\t2\n",
      "know\t1\n",
      "leaving\t1\n",
      "list\t1\n",
      "little\t2\n",
      "longing\t1\n",
      "make\t6\n",
      "melted\t1\n",
      "melting\t1\n",
      "never\t1\n",
      "new\t2\n",
      "news\t1\n",
      "of\t10\n",
      "old\t2\n",
      "on\t1\n",
      "part\t1\n",
      "shoes\t1\n",
      "sleep\t1\n",
      "sleeps\t1\n",
      "spreading\t1\n",
      "start\t2\n",
      "stray\t1\n",
      "that\t2\n",
      "the\t8\n",
      "there\t3\n",
      "through\t2\n",
      "to\t6\n",
      "today\t1\n",
      "town\t2\n",
      "up\t3\n",
      "vagabond\t1\n",
      "very\t1\n",
      "wake\t2\n",
      "want\t3\n",
      "you\t2\n"
     ]
    }
   ],
   "source": [
    "!./${HADOOP_VERSION}/bin/hdfs dfs -cat /user/matheus/output/part-r-00000"
   ]
  },
  {
   "cell_type": "code",
   "execution_count": 21,
   "metadata": {},
   "outputs": [],
   "source": [
    "# !./${HADOOP_VERSION}/bin/hdfs dfs -rm -r  /user/matheus/output/"
   ]
  }
 ],
 "metadata": {
  "kernelspec": {
   "display_name": "Python 3",
   "language": "python",
   "name": "python3"
  },
  "language_info": {
   "codemirror_mode": {
    "name": "ipython",
    "version": 3
   },
   "file_extension": ".py",
   "mimetype": "text/x-python",
   "name": "python",
   "nbconvert_exporter": "python",
   "pygments_lexer": "ipython3",
   "version": "3.7.3"
  }
 },
 "nbformat": 4,
 "nbformat_minor": 2
}
