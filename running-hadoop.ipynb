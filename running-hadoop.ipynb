{
 "cells": [
  {
   "cell_type": "markdown",
   "metadata": {},
   "source": [
    "### Downloading hadoop"
   ]
  },
  {
   "cell_type": "code",
   "execution_count": 3,
   "metadata": {},
   "outputs": [
    {
     "name": "stdout",
     "output_type": "stream",
     "text": [
      "hadoop-2.9.2.tar.gz 100%[===================>] 349.47M  19.3MB/s    in 19s     \n"
     ]
    }
   ],
   "source": [
    "! wget http://ftp.unicamp.br/pub/apache/hadoop/common/hadoop-2.9.2/hadoop-2.9.2.tar.gz -q --show-progress"
   ]
  },
  {
   "cell_type": "markdown",
   "metadata": {},
   "source": [
    "### Decompressing\n",
    "\n",
    "Optional: removing tar file"
   ]
  },
  {
   "cell_type": "code",
   "execution_count": 4,
   "metadata": {},
   "outputs": [],
   "source": [
    "!tar -xvf hadoop-2.9.2.tar.gz >/dev/null "
   ]
  },
  {
   "cell_type": "markdown",
   "metadata": {},
   "source": [
    "### Checking $JAVA_HOME path"
   ]
  },
  {
   "cell_type": "code",
   "execution_count": 5,
   "metadata": {},
   "outputs": [
    {
     "name": "stdout",
     "output_type": "stream",
     "text": [
      "/usr/lib/jvm/java-8-openjdk-amd64\n"
     ]
    }
   ],
   "source": [
    "!dirname $(dirname $(readlink -f $(which javac)))"
   ]
  },
  {
   "cell_type": "markdown",
   "metadata": {},
   "source": [
    "### Setting envvar $JAVA_HOME"
   ]
  },
  {
   "cell_type": "code",
   "execution_count": 6,
   "metadata": {},
   "outputs": [
    {
     "name": "stdout",
     "output_type": "stream",
     "text": [
      "env: JAVA_HOME=/usr/lib/jvm/java-8-openjdk-amd64\n"
     ]
    }
   ],
   "source": [
    "%env JAVA_HOME /usr/lib/jvm/java-8-openjdk-amd64"
   ]
  },
  {
   "cell_type": "code",
   "execution_count": 7,
   "metadata": {},
   "outputs": [],
   "source": [
    "!echo \"export JAVA_HOME=/usr/lib/jvm/java-8-openjdk-amd64 \" > .bashrc"
   ]
  },
  {
   "cell_type": "markdown",
   "metadata": {},
   "source": [
    "### Checking envvar"
   ]
  },
  {
   "cell_type": "code",
   "execution_count": 8,
   "metadata": {},
   "outputs": [
    {
     "data": {
      "text/plain": [
       "'/usr/lib/jvm/java-8-openjdk-amd64'"
      ]
     },
     "execution_count": 8,
     "metadata": {},
     "output_type": "execute_result"
    }
   ],
   "source": [
    "%env JAVA_HOME"
   ]
  },
  {
   "cell_type": "markdown",
   "metadata": {},
   "source": [
    "### Starting sshd server\n",
    "\n",
    "Check postBuild and sshd_config files for more details"
   ]
  },
  {
   "cell_type": "code",
   "execution_count": 9,
   "metadata": {},
   "outputs": [],
   "source": [
    "!/usr/sbin/sshd -f resources/configs/ssh/sshd_config "
   ]
  },
  {
   "cell_type": "markdown",
   "metadata": {},
   "source": [
    "### Adding to know hosts by sshing (avoiding yes/no host confirmation)"
   ]
  },
  {
   "cell_type": "code",
   "execution_count": 10,
   "metadata": {},
   "outputs": [],
   "source": [
    "!ssh -o \"StrictHostKeyChecking no\" $USER@localhost -p 9000 -C \"exit\" \n",
    "!ssh -o \"StrictHostKeyChecking no\" $USER@0.0.0.0   -p 9000 -C \"exit\""
   ]
  },
  {
   "cell_type": "markdown",
   "metadata": {},
   "source": [
    "#"
   ]
  },
  {
   "cell_type": "code",
   "execution_count": 24,
   "metadata": {},
   "outputs": [
    {
     "name": "stdout",
     "output_type": "stream",
     "text": [
      "19/06/21 22:15:06 INFO namenode.NameNode: STARTUP_MSG: \n",
      "/************************************************************\n",
      "STARTUP_MSG: Starting NameNode\n",
      "STARTUP_MSG:   host = jupyter-thedatasociety-2dmybinder-2dtests-2dpr1madcq/10.12.20.202\n",
      "STARTUP_MSG:   args = [-format, -force, -nonInteractive]\n",
      "STARTUP_MSG:   version = 2.9.2\n",
      "STARTUP_MSG:   classpath = /home/jovyan/hadoop-2.9.2/etc/hadoop:/home/jovyan/hadoop-2.9.2/share/hadoop/common/lib/commons-beanutils-1.7.0.jar:/home/jovyan/hadoop-2.9.2/share/hadoop/common/lib/commons-cli-1.2.jar:/home/jovyan/hadoop-2.9.2/share/hadoop/common/lib/hamcrest-core-1.3.jar:/home/jovyan/hadoop-2.9.2/share/hadoop/common/lib/jets3t-0.9.0.jar:/home/jovyan/hadoop-2.9.2/share/hadoop/common/lib/commons-beanutils-core-1.8.0.jar:/home/jovyan/hadoop-2.9.2/share/hadoop/common/lib/curator-client-2.7.1.jar:/home/jovyan/hadoop-2.9.2/share/hadoop/common/lib/commons-lang-2.6.jar:/home/jovyan/hadoop-2.9.2/share/hadoop/common/lib/jersey-json-1.9.jar:/home/jovyan/hadoop-2.9.2/share/hadoop/common/lib/zookeeper-3.4.6.jar:/home/jovyan/hadoop-2.9.2/share/hadoop/common/lib/activation-1.1.jar:/home/jovyan/hadoop-2.9.2/share/hadoop/common/lib/curator-framework-2.7.1.jar:/home/jovyan/hadoop-2.9.2/share/hadoop/common/lib/jetty-util-6.1.26.jar:/home/jovyan/hadoop-2.9.2/share/hadoop/common/lib/jsp-api-2.1.jar:/home/jovyan/hadoop-2.9.2/share/hadoop/common/lib/slf4j-log4j12-1.7.25.jar:/home/jovyan/hadoop-2.9.2/share/hadoop/common/lib/log4j-1.2.17.jar:/home/jovyan/hadoop-2.9.2/share/hadoop/common/lib/api-asn1-api-1.0.0-M20.jar:/home/jovyan/hadoop-2.9.2/share/hadoop/common/lib/stax2-api-3.1.4.jar:/home/jovyan/hadoop-2.9.2/share/hadoop/common/lib/commons-collections-3.2.2.jar:/home/jovyan/hadoop-2.9.2/share/hadoop/common/lib/java-xmlbuilder-0.4.jar:/home/jovyan/hadoop-2.9.2/share/hadoop/common/lib/json-smart-1.3.1.jar:/home/jovyan/hadoop-2.9.2/share/hadoop/common/lib/netty-3.6.2.Final.jar:/home/jovyan/hadoop-2.9.2/share/hadoop/common/lib/jcip-annotations-1.0-1.jar:/home/jovyan/hadoop-2.9.2/share/hadoop/common/lib/commons-logging-1.1.3.jar:/home/jovyan/hadoop-2.9.2/share/hadoop/common/lib/hadoop-auth-2.9.2.jar:/home/jovyan/hadoop-2.9.2/share/hadoop/common/lib/jackson-xc-1.9.13.jar:/home/jovyan/hadoop-2.9.2/share/hadoop/common/lib/httpclient-4.5.2.jar:/home/jovyan/hadoop-2.9.2/share/hadoop/common/lib/commons-math3-3.1.1.jar:/home/jovyan/hadoop-2.9.2/share/hadoop/common/lib/jaxb-api-2.2.2.jar:/home/jovyan/hadoop-2.9.2/share/hadoop/common/lib/servlet-api-2.5.jar:/home/jovyan/hadoop-2.9.2/share/hadoop/common/lib/nimbus-jose-jwt-4.41.1.jar:/home/jovyan/hadoop-2.9.2/share/hadoop/common/lib/commons-compress-1.4.1.jar:/home/jovyan/hadoop-2.9.2/share/hadoop/common/lib/protobuf-java-2.5.0.jar:/home/jovyan/hadoop-2.9.2/share/hadoop/common/lib/htrace-core4-4.1.0-incubating.jar:/home/jovyan/hadoop-2.9.2/share/hadoop/common/lib/gson-2.2.4.jar:/home/jovyan/hadoop-2.9.2/share/hadoop/common/lib/slf4j-api-1.7.25.jar:/home/jovyan/hadoop-2.9.2/share/hadoop/common/lib/apacheds-i18n-2.0.0-M15.jar:/home/jovyan/hadoop-2.9.2/share/hadoop/common/lib/jackson-jaxrs-1.9.13.jar:/home/jovyan/hadoop-2.9.2/share/hadoop/common/lib/commons-configuration-1.6.jar:/home/jovyan/hadoop-2.9.2/share/hadoop/common/lib/jetty-6.1.26.jar:/home/jovyan/hadoop-2.9.2/share/hadoop/common/lib/jersey-core-1.9.jar:/home/jovyan/hadoop-2.9.2/share/hadoop/common/lib/jersey-server-1.9.jar:/home/jovyan/hadoop-2.9.2/share/hadoop/common/lib/snappy-java-1.0.5.jar:/home/jovyan/hadoop-2.9.2/share/hadoop/common/lib/jaxb-impl-2.2.3-1.jar:/home/jovyan/hadoop-2.9.2/share/hadoop/common/lib/avro-1.7.7.jar:/home/jovyan/hadoop-2.9.2/share/hadoop/common/lib/httpcore-4.4.4.jar:/home/jovyan/hadoop-2.9.2/share/hadoop/common/lib/xz-1.0.jar:/home/jovyan/hadoop-2.9.2/share/hadoop/common/lib/asm-3.2.jar:/home/jovyan/hadoop-2.9.2/share/hadoop/common/lib/junit-4.11.jar:/home/jovyan/hadoop-2.9.2/share/hadoop/common/lib/commons-io-2.4.jar:/home/jovyan/hadoop-2.9.2/share/hadoop/common/lib/guava-11.0.2.jar:/home/jovyan/hadoop-2.9.2/share/hadoop/common/lib/stax-api-1.0-2.jar:/home/jovyan/hadoop-2.9.2/share/hadoop/common/lib/curator-recipes-2.7.1.jar:/home/jovyan/hadoop-2.9.2/share/hadoop/common/lib/commons-digester-1.8.jar:/home/jovyan/hadoop-2.9.2/share/hadoop/common/lib/jsch-0.1.54.jar:/home/jovyan/hadoop-2.9.2/share/hadoop/common/lib/commons-lang3-3.4.jar:/home/jovyan/hadoop-2.9.2/share/hadoop/common/lib/commons-codec-1.4.jar:/home/jovyan/hadoop-2.9.2/share/hadoop/common/lib/hadoop-annotations-2.9.2.jar:/home/jovyan/hadoop-2.9.2/share/hadoop/common/lib/commons-net-3.1.jar:/home/jovyan/hadoop-2.9.2/share/hadoop/common/lib/jackson-mapper-asl-1.9.13.jar:/home/jovyan/hadoop-2.9.2/share/hadoop/common/lib/jettison-1.1.jar:/home/jovyan/hadoop-2.9.2/share/hadoop/common/lib/paranamer-2.3.jar:/home/jovyan/hadoop-2.9.2/share/hadoop/common/lib/jetty-sslengine-6.1.26.jar:/home/jovyan/hadoop-2.9.2/share/hadoop/common/lib/jackson-core-asl-1.9.13.jar:/home/jovyan/hadoop-2.9.2/share/hadoop/common/lib/api-util-1.0.0-M20.jar:/home/jovyan/hadoop-2.9.2/share/hadoop/common/lib/xmlenc-0.52.jar:/home/jovyan/hadoop-2.9.2/share/hadoop/common/lib/apacheds-kerberos-codec-2.0.0-M15.jar:/home/jovyan/hadoop-2.9.2/share/hadoop/common/lib/woodstox-core-5.0.3.jar:/home/jovyan/hadoop-2.9.2/share/hadoop/common/lib/jsr305-3.0.0.jar:/home/jovyan/hadoop-2.9.2/share/hadoop/common/lib/mockito-all-1.8.5.jar:/home/jovyan/hadoop-2.9.2/share/hadoop/common/hadoop-common-2.9.2.jar:/home/jovyan/hadoop-2.9.2/share/hadoop/common/hadoop-common-2.9.2-tests.jar:/home/jovyan/hadoop-2.9.2/share/hadoop/common/hadoop-nfs-2.9.2.jar:/home/jovyan/hadoop-2.9.2/share/hadoop/hdfs:/home/jovyan/hadoop-2.9.2/share/hadoop/hdfs/lib/okio-1.6.0.jar:/home/jovyan/hadoop-2.9.2/share/hadoop/hdfs/lib/commons-cli-1.2.jar:/home/jovyan/hadoop-2.9.2/share/hadoop/hdfs/lib/commons-lang-2.6.jar:/home/jovyan/hadoop-2.9.2/share/hadoop/hdfs/lib/commons-daemon-1.0.13.jar:/home/jovyan/hadoop-2.9.2/share/hadoop/hdfs/lib/jetty-util-6.1.26.jar:/home/jovyan/hadoop-2.9.2/share/hadoop/hdfs/lib/okhttp-2.7.5.jar:/home/jovyan/hadoop-2.9.2/share/hadoop/hdfs/lib/log4j-1.2.17.jar:/home/jovyan/hadoop-2.9.2/share/hadoop/hdfs/lib/netty-3.6.2.Final.jar:/home/jovyan/hadoop-2.9.2/share/hadoop/hdfs/lib/commons-logging-1.1.3.jar:/home/jovyan/hadoop-2.9.2/share/hadoop/hdfs/lib/jackson-core-2.7.8.jar:/home/jovyan/hadoop-2.9.2/share/hadoop/hdfs/lib/servlet-api-2.5.jar:/home/jovyan/hadoop-2.9.2/share/hadoop/hdfs/lib/protobuf-java-2.5.0.jar:/home/jovyan/hadoop-2.9.2/share/hadoop/hdfs/lib/htrace-core4-4.1.0-incubating.jar:/home/jovyan/hadoop-2.9.2/share/hadoop/hdfs/lib/netty-all-4.0.23.Final.jar:/home/jovyan/hadoop-2.9.2/share/hadoop/hdfs/lib/jackson-databind-2.7.8.jar:/home/jovyan/hadoop-2.9.2/share/hadoop/hdfs/lib/hadoop-hdfs-client-2.9.2.jar:/home/jovyan/hadoop-2.9.2/share/hadoop/hdfs/lib/xml-apis-1.3.04.jar:/home/jovyan/hadoop-2.9.2/share/hadoop/hdfs/lib/jetty-6.1.26.jar:/home/jovyan/hadoop-2.9.2/share/hadoop/hdfs/lib/jackson-annotations-2.7.8.jar:/home/jovyan/hadoop-2.9.2/share/hadoop/hdfs/lib/jersey-core-1.9.jar:/home/jovyan/hadoop-2.9.2/share/hadoop/hdfs/lib/jersey-server-1.9.jar:/home/jovyan/hadoop-2.9.2/share/hadoop/hdfs/lib/leveldbjni-all-1.8.jar:/home/jovyan/hadoop-2.9.2/share/hadoop/hdfs/lib/asm-3.2.jar:/home/jovyan/hadoop-2.9.2/share/hadoop/hdfs/lib/commons-io-2.4.jar:/home/jovyan/hadoop-2.9.2/share/hadoop/hdfs/lib/guava-11.0.2.jar:/home/jovyan/hadoop-2.9.2/share/hadoop/hdfs/lib/commons-codec-1.4.jar:/home/jovyan/hadoop-2.9.2/share/hadoop/hdfs/lib/jackson-mapper-asl-1.9.13.jar:/home/jovyan/hadoop-2.9.2/share/hadoop/hdfs/lib/xercesImpl-2.9.1.jar:/home/jovyan/hadoop-2.9.2/share/hadoop/hdfs/lib/jackson-core-asl-1.9.13.jar:/home/jovyan/hadoop-2.9.2/share/hadoop/hdfs/lib/xmlenc-0.52.jar:/home/jovyan/hadoop-2.9.2/share/hadoop/hdfs/lib/jsr305-3.0.0.jar:/home/jovyan/hadoop-2.9.2/share/hadoop/hdfs/hadoop-hdfs-rbf-2.9.2.jar:/home/jovyan/hadoop-2.9.2/share/hadoop/hdfs/hadoop-hdfs-native-client-2.9.2.jar:/home/jovyan/hadoop-2.9.2/share/hadoop/hdfs/hadoop-hdfs-rbf-2.9.2-tests.jar:/home/jovyan/hadoop-2.9.2/share/hadoop/hdfs/hadoop-hdfs-client-2.9.2.jar:/home/jovyan/hadoop-2.9.2/share/hadoop/hdfs/hadoop-hdfs-2.9.2.jar:/home/jovyan/hadoop-2.9.2/share/hadoop/hdfs/hadoop-hdfs-native-client-2.9.2-tests.jar:/home/jovyan/hadoop-2.9.2/share/hadoop/hdfs/hadoop-hdfs-nfs-2.9.2.jar:/home/jovyan/hadoop-2.9.2/share/hadoop/hdfs/hadoop-hdfs-2.9.2-tests.jar:/home/jovyan/hadoop-2.9.2/share/hadoop/hdfs/hadoop-hdfs-client-2.9.2-tests.jar:/home/jovyan/hadoop-2.9.2/share/hadoop/yarn:/home/jovyan/hadoop-2.9.2/share/hadoop/yarn/lib/commons-beanutils-1.7.0.jar:/home/jovyan/hadoop-2.9.2/share/hadoop/yarn/lib/commons-cli-1.2.jar:/home/jovyan/hadoop-2.9.2/share/hadoop/yarn/lib/jets3t-0.9.0.jar:/home/jovyan/hadoop-2.9.2/share/hadoop/yarn/lib/commons-beanutils-core-1.8.0.jar:/home/jovyan/hadoop-2.9.2/share/hadoop/yarn/lib/curator-client-2.7.1.jar:/home/jovyan/hadoop-2.9.2/share/hadoop/yarn/lib/commons-lang-2.6.jar:/home/jovyan/hadoop-2.9.2/share/hadoop/yarn/lib/jersey-json-1.9.jar:/home/jovyan/hadoop-2.9.2/share/hadoop/yarn/lib/zookeeper-3.4.6.jar:/home/jovyan/hadoop-2.9.2/share/hadoop/yarn/lib/activation-1.1.jar:/home/jovyan/hadoop-2.9.2/share/hadoop/yarn/lib/curator-framework-2.7.1.jar:/home/jovyan/hadoop-2.9.2/share/hadoop/yarn/lib/jetty-util-6.1.26.jar:/home/jovyan/hadoop-2.9.2/share/hadoop/yarn/lib/ehcache-3.3.1.jar:/home/jovyan/hadoop-2.9.2/share/hadoop/yarn/lib/jsp-api-2.1.jar:/home/jovyan/hadoop-2.9.2/share/hadoop/yarn/lib/HikariCP-java7-2.4.12.jar:/home/jovyan/hadoop-2.9.2/share/hadoop/yarn/lib/guice-3.0.jar:/home/jovyan/hadoop-2.9.2/share/hadoop/yarn/lib/log4j-1.2.17.jar:/home/jovyan/hadoop-2.9.2/share/hadoop/yarn/lib/api-asn1-api-1.0.0-M20.jar:/home/jovyan/hadoop-2.9.2/share/hadoop/yarn/lib/stax2-api-3.1.4.jar:/home/jovyan/hadoop-2.9.2/share/hadoop/yarn/lib/commons-collections-3.2.2.jar:/home/jovyan/hadoop-2.9.2/share/hadoop/yarn/lib/java-xmlbuilder-0.4.jar:/home/jovyan/hadoop-2.9.2/share/hadoop/yarn/lib/json-smart-1.3.1.jar:/home/jovyan/hadoop-2.9.2/share/hadoop/yarn/lib/netty-3.6.2.Final.jar:/home/jovyan/hadoop-2.9.2/share/hadoop/yarn/lib/jcip-annotations-1.0-1.jar:/home/jovyan/hadoop-2.9.2/share/hadoop/yarn/lib/commons-logging-1.1.3.jar:/home/jovyan/hadoop-2.9.2/share/hadoop/yarn/lib/mssql-jdbc-6.2.1.jre7.jar:/home/jovyan/hadoop-2.9.2/share/hadoop/yarn/lib/jackson-xc-1.9.13.jar:/home/jovyan/hadoop-2.9.2/share/hadoop/yarn/lib/httpclient-4.5.2.jar:/home/jovyan/hadoop-2.9.2/share/hadoop/yarn/lib/commons-math3-3.1.1.jar:/home/jovyan/hadoop-2.9.2/share/hadoop/yarn/lib/jaxb-api-2.2.2.jar:/home/jovyan/hadoop-2.9.2/share/hadoop/yarn/lib/servlet-api-2.5.jar:/home/jovyan/hadoop-2.9.2/share/hadoop/yarn/lib/nimbus-jose-jwt-4.41.1.jar:/home/jovyan/hadoop-2.9.2/share/hadoop/yarn/lib/commons-compress-1.4.1.jar:/home/jovyan/hadoop-2.9.2/share/hadoop/yarn/lib/protobuf-java-2.5.0.jar:/home/jovyan/hadoop-2.9.2/share/hadoop/yarn/lib/htrace-core4-4.1.0-incubating.jar:/home/jovyan/hadoop-2.9.2/share/hadoop/yarn/lib/gson-2.2.4.jar:/home/jovyan/hadoop-2.9.2/share/hadoop/yarn/lib/apacheds-i18n-2.0.0-M15.jar:/home/jovyan/hadoop-2.9.2/share/hadoop/yarn/lib/jersey-client-1.9.jar:/home/jovyan/hadoop-2.9.2/share/hadoop/yarn/lib/javax.inject-1.jar:/home/jovyan/hadoop-2.9.2/share/hadoop/yarn/lib/jackson-jaxrs-1.9.13.jar:/home/jovyan/hadoop-2.9.2/share/hadoop/yarn/lib/commons-configuration-1.6.jar:/home/jovyan/hadoop-2.9.2/share/hadoop/yarn/lib/aopalliance-1.0.jar:/home/jovyan/hadoop-2.9.2/share/hadoop/yarn/lib/jetty-6.1.26.jar:/home/jovyan/hadoop-2.9.2/share/hadoop/yarn/lib/jersey-core-1.9.jar:/home/jovyan/hadoop-2.9.2/share/hadoop/yarn/lib/jersey-server-1.9.jar:/home/jovyan/hadoop-2.9.2/share/hadoop/yarn/lib/leveldbjni-all-1.8.jar:/home/jovyan/hadoop-2.9.2/share/hadoop/yarn/lib/fst-2.50.jar:/home/jovyan/hadoop-2.9.2/share/hadoop/yarn/lib/snappy-java-1.0.5.jar:/home/jovyan/hadoop-2.9.2/share/hadoop/yarn/lib/jaxb-impl-2.2.3-1.jar:/home/jovyan/hadoop-2.9.2/share/hadoop/yarn/lib/jersey-guice-1.9.jar:/home/jovyan/hadoop-2.9.2/share/hadoop/yarn/lib/avro-1.7.7.jar:/home/jovyan/hadoop-2.9.2/share/hadoop/yarn/lib/json-io-2.5.1.jar:/home/jovyan/hadoop-2.9.2/share/hadoop/yarn/lib/httpcore-4.4.4.jar:/home/jovyan/hadoop-2.9.2/share/hadoop/yarn/lib/xz-1.0.jar:/home/jovyan/hadoop-2.9.2/share/hadoop/yarn/lib/asm-3.2.jar:/home/jovyan/hadoop-2.9.2/share/hadoop/yarn/lib/guice-servlet-3.0.jar:/home/jovyan/hadoop-2.9.2/share/hadoop/yarn/lib/commons-io-2.4.jar:/home/jovyan/hadoop-2.9.2/share/hadoop/yarn/lib/guava-11.0.2.jar:/home/jovyan/hadoop-2.9.2/share/hadoop/yarn/lib/stax-api-1.0-2.jar:/home/jovyan/hadoop-2.9.2/share/hadoop/yarn/lib/curator-recipes-2.7.1.jar:/home/jovyan/hadoop-2.9.2/share/hadoop/yarn/lib/commons-digester-1.8.jar:/home/jovyan/hadoop-2.9.2/share/hadoop/yarn/lib/jsch-0.1.54.jar:/home/jovyan/hadoop-2.9.2/share/hadoop/yarn/lib/commons-lang3-3.4.jar:/home/jovyan/hadoop-2.9.2/share/hadoop/yarn/lib/commons-codec-1.4.jar:/home/jovyan/hadoop-2.9.2/share/hadoop/yarn/lib/java-util-1.9.0.jar:/home/jovyan/hadoop-2.9.2/share/hadoop/yarn/lib/commons-net-3.1.jar:/home/jovyan/hadoop-2.9.2/share/hadoop/yarn/lib/jackson-mapper-asl-1.9.13.jar:/home/jovyan/hadoop-2.9.2/share/hadoop/yarn/lib/jettison-1.1.jar:/home/jovyan/hadoop-2.9.2/share/hadoop/yarn/lib/paranamer-2.3.jar:/home/jovyan/hadoop-2.9.2/share/hadoop/yarn/lib/metrics-core-3.0.1.jar:/home/jovyan/hadoop-2.9.2/share/hadoop/yarn/lib/jetty-sslengine-6.1.26.jar:/home/jovyan/hadoop-2.9.2/share/hadoop/yarn/lib/jackson-core-asl-1.9.13.jar:/home/jovyan/hadoop-2.9.2/share/hadoop/yarn/lib/geronimo-jcache_1.0_spec-1.0-alpha-1.jar:/home/jovyan/hadoop-2.9.2/share/hadoop/yarn/lib/api-util-1.0.0-M20.jar:/home/jovyan/hadoop-2.9.2/share/hadoop/yarn/lib/xmlenc-0.52.jar:/home/jovyan/hadoop-2.9.2/share/hadoop/yarn/lib/apacheds-kerberos-codec-2.0.0-M15.jar:/home/jovyan/hadoop-2.9.2/share/hadoop/yarn/lib/woodstox-core-5.0.3.jar:/home/jovyan/hadoop-2.9.2/share/hadoop/yarn/lib/jsr305-3.0.0.jar:/home/jovyan/hadoop-2.9.2/share/hadoop/yarn/hadoop-yarn-server-resourcemanager-2.9.2.jar:/home/jovyan/hadoop-2.9.2/share/hadoop/yarn/hadoop-yarn-server-sharedcachemanager-2.9.2.jar:/home/jovyan/hadoop-2.9.2/share/hadoop/yarn/hadoop-yarn-server-web-proxy-2.9.2.jar:/home/jovyan/hadoop-2.9.2/share/hadoop/yarn/hadoop-yarn-server-router-2.9.2.jar:/home/jovyan/hadoop-2.9.2/share/hadoop/yarn/hadoop-yarn-common-2.9.2.jar:/home/jovyan/hadoop-2.9.2/share/hadoop/yarn/hadoop-yarn-server-applicationhistoryservice-2.9.2.jar:/home/jovyan/hadoop-2.9.2/share/hadoop/yarn/hadoop-yarn-applications-unmanaged-am-launcher-2.9.2.jar:/home/jovyan/hadoop-2.9.2/share/hadoop/yarn/hadoop-yarn-client-2.9.2.jar:/home/jovyan/hadoop-2.9.2/share/hadoop/yarn/hadoop-yarn-server-timeline-pluginstorage-2.9.2.jar:/home/jovyan/hadoop-2.9.2/share/hadoop/yarn/hadoop-yarn-server-common-2.9.2.jar:/home/jovyan/hadoop-2.9.2/share/hadoop/yarn/hadoop-yarn-applications-distributedshell-2.9.2.jar:/home/jovyan/hadoop-2.9.2/share/hadoop/yarn/hadoop-yarn-server-tests-2.9.2.jar:/home/jovyan/hadoop-2.9.2/share/hadoop/yarn/hadoop-yarn-api-2.9.2.jar:/home/jovyan/hadoop-2.9.2/share/hadoop/yarn/hadoop-yarn-registry-2.9.2.jar:/home/jovyan/hadoop-2.9.2/share/hadoop/yarn/hadoop-yarn-server-nodemanager-2.9.2.jar:/home/jovyan/hadoop-2.9.2/share/hadoop/mapreduce/lib/hamcrest-core-1.3.jar:/home/jovyan/hadoop-2.9.2/share/hadoop/mapreduce/lib/guice-3.0.jar:/home/jovyan/hadoop-2.9.2/share/hadoop/mapreduce/lib/log4j-1.2.17.jar:/home/jovyan/hadoop-2.9.2/share/hadoop/mapreduce/lib/netty-3.6.2.Final.jar:/home/jovyan/hadoop-2.9.2/share/hadoop/mapreduce/lib/commons-compress-1.4.1.jar:/home/jovyan/hadoop-2.9.2/share/hadoop/mapreduce/lib/protobuf-java-2.5.0.jar:/home/jovyan/hadoop-2.9.2/share/hadoop/mapreduce/lib/javax.inject-1.jar:/home/jovyan/hadoop-2.9.2/share/hadoop/mapreduce/lib/aopalliance-1.0.jar:/home/jovyan/hadoop-2.9.2/share/hadoop/mapreduce/lib/jersey-core-1.9.jar:/home/jovyan/hadoop-2.9.2/share/hadoop/mapreduce/lib/jersey-server-1.9.jar:/home/jovyan/hadoop-2.9.2/share/hadoop/mapreduce/lib/leveldbjni-all-1.8.jar:/home/jovyan/hadoop-2.9.2/share/hadoop/mapreduce/lib/snappy-java-1.0.5.jar:/home/jovyan/hadoop-2.9.2/share/hadoop/mapreduce/lib/jersey-guice-1.9.jar:/home/jovyan/hadoop-2.9.2/share/hadoop/mapreduce/lib/avro-1.7.7.jar:/home/jovyan/hadoop-2.9.2/share/hadoop/mapreduce/lib/xz-1.0.jar:/home/jovyan/hadoop-2.9.2/share/hadoop/mapreduce/lib/asm-3.2.jar:/home/jovyan/hadoop-2.9.2/share/hadoop/mapreduce/lib/guice-servlet-3.0.jar:/home/jovyan/hadoop-2.9.2/share/hadoop/mapreduce/lib/junit-4.11.jar:/home/jovyan/hadoop-2.9.2/share/hadoop/mapreduce/lib/commons-io-2.4.jar:/home/jovyan/hadoop-2.9.2/share/hadoop/mapreduce/lib/hadoop-annotations-2.9.2.jar:/home/jovyan/hadoop-2.9.2/share/hadoop/mapreduce/lib/jackson-mapper-asl-1.9.13.jar:/home/jovyan/hadoop-2.9.2/share/hadoop/mapreduce/lib/paranamer-2.3.jar:/home/jovyan/hadoop-2.9.2/share/hadoop/mapreduce/lib/jackson-core-asl-1.9.13.jar:/home/jovyan/hadoop-2.9.2/share/hadoop/mapreduce/hadoop-mapreduce-client-app-2.9.2.jar:/home/jovyan/hadoop-2.9.2/share/hadoop/mapreduce/hadoop-mapreduce-client-common-2.9.2.jar:/home/jovyan/hadoop-2.9.2/share/hadoop/mapreduce/hadoop-mapreduce-client-jobclient-2.9.2-tests.jar:/home/jovyan/hadoop-2.9.2/share/hadoop/mapreduce/hadoop-mapreduce-client-hs-2.9.2.jar:/home/jovyan/hadoop-2.9.2/share/hadoop/mapreduce/hadoop-mapreduce-client-hs-plugins-2.9.2.jar:/home/jovyan/hadoop-2.9.2/share/hadoop/mapreduce/hadoop-mapreduce-client-jobclient-2.9.2.jar:/home/jovyan/hadoop-2.9.2/share/hadoop/mapreduce/hadoop-mapreduce-client-shuffle-2.9.2.jar:/home/jovyan/hadoop-2.9.2/share/hadoop/mapreduce/hadoop-mapreduce-examples-2.9.2.jar:/home/jovyan/hadoop-2.9.2/share/hadoop/mapreduce/hadoop-mapreduce-client-core-2.9.2.jar:/contrib/capacity-scheduler/*.jar\n",
      "STARTUP_MSG:   build = https://git-wip-us.apache.org/repos/asf/hadoop.git -r 826afbeae31ca687bc2f8471dc841b66ed2c6704; compiled by 'ajisaka' on 2018-11-13T12:42Z\n",
      "STARTUP_MSG:   java = 1.8.0_212\n",
      "************************************************************/\n",
      "19/06/21 22:15:07 INFO namenode.NameNode: registered UNIX signal handlers for [TERM, HUP, INT]\n",
      "19/06/21 22:15:07 INFO namenode.NameNode: createNameNode [-format, -force, -nonInteractive]\n",
      "Formatting using clusterid: CID-45f843d6-63c8-4dc7-a907-a7c18f84e362\n",
      "19/06/21 22:15:08 INFO namenode.FSEditLog: Edit logging is async:true\n",
      "19/06/21 22:15:08 INFO namenode.FSNamesystem: KeyProvider: null\n",
      "19/06/21 22:15:08 INFO namenode.FSNamesystem: fsLock is fair: true\n",
      "19/06/21 22:15:08 INFO namenode.FSNamesystem: Detailed lock hold time metrics enabled: false\n",
      "19/06/21 22:15:08 INFO namenode.FSNamesystem: fsOwner             = jovyan (auth:SIMPLE)\n",
      "19/06/21 22:15:08 INFO namenode.FSNamesystem: supergroup          = supergroup\n",
      "19/06/21 22:15:08 INFO namenode.FSNamesystem: isPermissionEnabled = true\n",
      "19/06/21 22:15:08 INFO namenode.FSNamesystem: HA Enabled: false\n",
      "19/06/21 22:15:08 INFO common.Util: dfs.datanode.fileio.profiling.sampling.percentage set to 0. Disabling file IO profiling\n",
      "19/06/21 22:15:08 INFO blockmanagement.DatanodeManager: dfs.block.invalidate.limit: configured=1000, counted=60, effected=1000\n",
      "19/06/21 22:15:08 INFO blockmanagement.DatanodeManager: dfs.namenode.datanode.registration.ip-hostname-check=true\n",
      "19/06/21 22:15:08 INFO blockmanagement.BlockManager: dfs.namenode.startup.delay.block.deletion.sec is set to 000:00:00:00.000\n",
      "19/06/21 22:15:08 INFO blockmanagement.BlockManager: The block deletion will start around 2019 Jun 21 22:15:08\n",
      "19/06/21 22:15:08 INFO util.GSet: Computing capacity for map BlocksMap\n",
      "19/06/21 22:15:08 INFO util.GSet: VM type       = 64-bit\n",
      "19/06/21 22:15:08 INFO util.GSet: 2.0% max memory 966.7 MB = 19.3 MB\n",
      "19/06/21 22:15:08 INFO util.GSet: capacity      = 2^21 = 2097152 entries\n",
      "19/06/21 22:15:08 INFO blockmanagement.BlockManager: dfs.block.access.token.enable=false\n",
      "19/06/21 22:15:08 WARN conf.Configuration: No unit for dfs.heartbeat.interval(3) assuming SECONDS\n",
      "19/06/21 22:15:08 WARN conf.Configuration: No unit for dfs.namenode.safemode.extension(30000) assuming MILLISECONDS\n",
      "19/06/21 22:15:08 INFO blockmanagement.BlockManagerSafeMode: dfs.namenode.safemode.threshold-pct = 0.9990000128746033\n",
      "19/06/21 22:15:08 INFO blockmanagement.BlockManagerSafeMode: dfs.namenode.safemode.min.datanodes = 0\n",
      "19/06/21 22:15:08 INFO blockmanagement.BlockManagerSafeMode: dfs.namenode.safemode.extension = 30000\n",
      "19/06/21 22:15:08 INFO blockmanagement.BlockManager: defaultReplication         = 3\n",
      "19/06/21 22:15:08 INFO blockmanagement.BlockManager: maxReplication             = 512\n",
      "19/06/21 22:15:08 INFO blockmanagement.BlockManager: minReplication             = 1\n",
      "19/06/21 22:15:08 INFO blockmanagement.BlockManager: maxReplicationStreams      = 2\n",
      "19/06/21 22:15:08 INFO blockmanagement.BlockManager: replicationRecheckInterval = 3000\n",
      "19/06/21 22:15:08 INFO blockmanagement.BlockManager: encryptDataTransfer        = false\n",
      "19/06/21 22:15:08 INFO blockmanagement.BlockManager: maxNumBlocksToLog          = 1000\n",
      "19/06/21 22:15:08 INFO namenode.FSNamesystem: Append Enabled: true\n",
      "19/06/21 22:15:08 INFO namenode.FSDirectory: GLOBAL serial map: bits=24 maxEntries=16777215\n",
      "19/06/21 22:15:08 INFO util.GSet: Computing capacity for map INodeMap\n",
      "19/06/21 22:15:08 INFO util.GSet: VM type       = 64-bit\n",
      "19/06/21 22:15:08 INFO util.GSet: 1.0% max memory 966.7 MB = 9.7 MB\n",
      "19/06/21 22:15:08 INFO util.GSet: capacity      = 2^20 = 1048576 entries\n",
      "19/06/21 22:15:08 INFO namenode.FSDirectory: ACLs enabled? false\n",
      "19/06/21 22:15:08 INFO namenode.FSDirectory: XAttrs enabled? true\n",
      "19/06/21 22:15:08 INFO namenode.NameNode: Caching file names occurring more than 10 times\n",
      "19/06/21 22:15:08 INFO snapshot.SnapshotManager: Loaded config captureOpenFiles: falseskipCaptureAccessTimeOnlyChange: false\n",
      "19/06/21 22:15:08 INFO util.GSet: Computing capacity for map cachedBlocks\n",
      "19/06/21 22:15:08 INFO util.GSet: VM type       = 64-bit\n",
      "19/06/21 22:15:08 INFO util.GSet: 0.25% max memory 966.7 MB = 2.4 MB\n",
      "19/06/21 22:15:08 INFO util.GSet: capacity      = 2^18 = 262144 entries\n",
      "19/06/21 22:15:08 INFO metrics.TopMetrics: NNTop conf: dfs.namenode.top.window.num.buckets = 10\n",
      "19/06/21 22:15:08 INFO metrics.TopMetrics: NNTop conf: dfs.namenode.top.num.users = 10\n",
      "19/06/21 22:15:08 INFO metrics.TopMetrics: NNTop conf: dfs.namenode.top.windows.minutes = 1,5,25\n",
      "19/06/21 22:15:08 INFO namenode.FSNamesystem: Retry cache on namenode is enabled\n",
      "19/06/21 22:15:08 INFO namenode.FSNamesystem: Retry cache will use 0.03 of total heap and retry cache entry expiry time is 600000 millis\n",
      "19/06/21 22:15:08 INFO util.GSet: Computing capacity for map NameNodeRetryCache\n",
      "19/06/21 22:15:08 INFO util.GSet: VM type       = 64-bit\n",
      "19/06/21 22:15:08 INFO util.GSet: 0.029999999329447746% max memory 966.7 MB = 297.0 KB\n",
      "19/06/21 22:15:08 INFO util.GSet: capacity      = 2^15 = 32768 entries\n",
      "Data exists in Storage Directory /tmp/hadoop-jovyan/dfs/name. Formatting anyway.\n",
      "19/06/21 22:15:08 INFO namenode.FSImage: Allocated new BlockPoolId: BP-809501014-10.12.20.202-1561155308676\n",
      "19/06/21 22:15:08 INFO common.Storage: Will remove files: [/tmp/hadoop-jovyan/dfs/name/current/VERSION, /tmp/hadoop-jovyan/dfs/name/current/fsimage_0000000000000000000.md5, /tmp/hadoop-jovyan/dfs/name/current/fsimage_0000000000000000000, /tmp/hadoop-jovyan/dfs/name/current/seen_txid]\n",
      "19/06/21 22:15:08 INFO common.Storage: Storage directory /tmp/hadoop-jovyan/dfs/name has been successfully formatted.\n",
      "19/06/21 22:15:08 INFO namenode.FSImageFormatProtobuf: Saving image file /tmp/hadoop-jovyan/dfs/name/current/fsimage.ckpt_0000000000000000000 using no compression\n",
      "19/06/21 22:15:08 INFO namenode.FSImageFormatProtobuf: Image file /tmp/hadoop-jovyan/dfs/name/current/fsimage.ckpt_0000000000000000000 of size 325 bytes saved in 0 seconds .\n",
      "19/06/21 22:15:08 INFO namenode.NNStorageRetentionManager: Going to retain 1 images with txid >= 0\n",
      "19/06/21 22:15:08 INFO namenode.NameNode: SHUTDOWN_MSG: \n",
      "/************************************************************\n",
      "SHUTDOWN_MSG: Shutting down NameNode at jupyter-thedatasociety-2dmybinder-2dtests-2dpr1madcq/10.12.20.202\n",
      "************************************************************/\n"
     ]
    }
   ],
   "source": [
    "!./hadoop-2.9.2/bin/hdfs namenode -format -force -nonInteractive"
   ]
  },
  {
   "cell_type": "code",
   "execution_count": 28,
   "metadata": {},
   "outputs": [],
   "source": []
  },
  {
   "cell_type": "code",
   "execution_count": 25,
   "metadata": {},
   "outputs": [
    {
     "name": "stdout",
     "output_type": "stream",
     "text": [
      "env: HADOOP_SSH_OPTS=-p 9000\n"
     ]
    }
   ],
   "source": [
    "%env HADOOP_SSH_OPTS -p 9000 "
   ]
  },
  {
   "cell_type": "code",
   "execution_count": 28,
   "metadata": {},
   "outputs": [
    {
     "name": "stdout",
     "output_type": "stream",
     "text": [
      "Incorrect configuration: namenode address dfs.namenode.servicerpc-address or dfs.namenode.rpc-address is not configured.\n",
      "Stopping namenodes on []\n",
      "localhost: stopping namenode\n",
      "localhost: namenode did not stop gracefully after 5 seconds: killing with kill -9\n",
      "localhost: stopping datanode\n",
      "localhost: datanode did not stop gracefully after 5 seconds: killing with kill -9\n",
      "Stopping secondary namenodes [0.0.0.0]\n",
      "0.0.0.0: stopping secondarynamenode\n",
      "0.0.0.0: secondarynamenode did not stop gracefully after 5 seconds: killing with kill -9\n",
      "Incorrect configuration: namenode address dfs.namenode.servicerpc-address or dfs.namenode.rpc-address is not configured.\n",
      "Starting namenodes on []\n",
      "localhost: starting namenode, logging to /home/jovyan/hadoop-2.9.2/logs/hadoop-jovyan-namenode-jupyter-thedatasociety-2dmybinder-2dtests-2dpr1madcq.out\n",
      "localhost: starting datanode, logging to /home/jovyan/hadoop-2.9.2/logs/hadoop-jovyan-datanode-jupyter-thedatasociety-2dmybinder-2dtests-2dpr1madcq.out\n",
      "Starting secondary namenodes [0.0.0.0]\n",
      "0.0.0.0: starting secondarynamenode, logging to /home/jovyan/hadoop-2.9.2/logs/hadoop-jovyan-secondarynamenode-jupyter-thedatasociety-2dmybinder-2dtests-2dpr1madcq.out\n"
     ]
    }
   ],
   "source": [
    "#! ./hadoop-2.9.2/sbin/stop-dfs.sh\n",
    "! ./hadoop-2.9.2/sbin/start-dfs.sh"
   ]
  },
  {
   "cell_type": "code",
   "execution_count": null,
   "metadata": {},
   "outputs": [],
   "source": []
  },
  {
   "cell_type": "code",
   "execution_count": 29,
   "metadata": {},
   "outputs": [
    {
     "name": "stdout",
     "output_type": "stream",
     "text": [
      "mkdir: `/user': Input/output error\n",
      "mkdir: `/user/matheus': No such file or directory\n"
     ]
    }
   ],
   "source": [
    "!./hadoop-2.9.2/bin/hdfs dfs -mkdir /user\n",
    "!./hadoop-2.9.2/bin/hdfs dfs -mkdir /user/matheus"
   ]
  },
  {
   "cell_type": "code",
   "execution_count": null,
   "metadata": {},
   "outputs": [],
   "source": []
  },
  {
   "cell_type": "code",
   "execution_count": 30,
   "metadata": {},
   "outputs": [
    {
     "name": "stdout",
     "output_type": "stream",
     "text": [
      "Found 20 items\n",
      "-rwxr-xr-x   1 root root          0 2019-06-21 21:50 /.dockerenv\n",
      "drwxr-xr-x   - root root       4096 2019-06-19 13:09 /bin\n",
      "drwxr-xr-x   - root root       4096 2018-04-24 08:34 /boot\n",
      "drwxr-xr-x   - root root        360 2019-06-21 21:50 /dev\n",
      "drwxr-xr-x   - root root       4096 2019-06-21 21:50 /etc\n",
      "drwxr-xr-x   - root root       4096 2019-06-19 13:09 /home\n",
      "drwxr-xr-x   - root root       4096 2019-06-19 02:27 /lib\n",
      "drwxr-xr-x   - root root       4096 2019-06-12 16:55 /lib64\n",
      "drwxr-xr-x   - root root       4096 2019-06-12 16:54 /media\n",
      "drwxr-xr-x   - root root       4096 2019-06-12 16:54 /mnt\n",
      "drwxr-xr-x   - root root       4096 2019-06-12 16:54 /opt\n",
      "dr-xr-xr-x   - root root          0 2019-06-21 21:50 /proc\n",
      "drwx------   - root root       4096 2019-06-19 13:11 /root\n",
      "drwxr-xr-x   - root root       4096 2019-06-18 22:51 /run\n",
      "drwxr-xr-x   - root root       4096 2019-06-18 22:51 /sbin\n",
      "drwxr-xr-x   - root root       4096 2019-06-19 13:09 /srv\n",
      "dr-xr-xr-x   - root root          0 2019-06-13 03:27 /sys\n",
      "drwxrwxrwt   - root root       4096 2019-06-21 22:16 /tmp\n",
      "drwxr-xr-x   - root root       4096 2019-06-12 16:54 /usr\n",
      "drwxr-xr-x   - root root       4096 2019-06-12 16:55 /var\n"
     ]
    }
   ],
   "source": [
    "!./hadoop-2.9.2/bin/hdfs dfs -ls /"
   ]
  }
 ],
 "metadata": {
  "kernelspec": {
   "display_name": "Python 3",
   "language": "python",
   "name": "python3"
  },
  "language_info": {
   "codemirror_mode": {
    "name": "ipython",
    "version": 3
   },
   "file_extension": ".py",
   "mimetype": "text/x-python",
   "name": "python",
   "nbconvert_exporter": "python",
   "pygments_lexer": "ipython3",
   "version": "3.7.3"
  }
 },
 "nbformat": 4,
 "nbformat_minor": 2
}
