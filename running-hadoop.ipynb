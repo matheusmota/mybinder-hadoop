{
 "cells": [
  {
   "cell_type": "markdown",
   "metadata": {},
   "source": [
    "### Downloading hadoop"
   ]
  },
  {
   "cell_type": "code",
   "execution_count": 1,
   "metadata": {},
   "outputs": [
    {
     "name": "stdout",
     "output_type": "stream",
     "text": [
      "hadoop-2.9.2.tar.gz 100%[===================>] 349.47M  18.9MB/s    in 19s     \n"
     ]
    }
   ],
   "source": [
    "! wget http://ftp.unicamp.br/pub/apache/hadoop/common/hadoop-2.9.2/hadoop-2.9.2.tar.gz -q --show-progress"
   ]
  },
  {
   "cell_type": "markdown",
   "metadata": {},
   "source": [
    "### Decompressing\n",
    "\n",
    "Optional: removing tar file"
   ]
  },
  {
   "cell_type": "code",
   "execution_count": 2,
   "metadata": {},
   "outputs": [],
   "source": [
    "!tar -xvf hadoop-2.9.2.tar.gz >/dev/null "
   ]
  },
  {
   "cell_type": "markdown",
   "metadata": {},
   "source": [
    "### Checking $JAVA_HOME path"
   ]
  },
  {
   "cell_type": "code",
   "execution_count": 3,
   "metadata": {},
   "outputs": [
    {
     "name": "stdout",
     "output_type": "stream",
     "text": [
      "/usr/lib/jvm/java-8-openjdk-amd64\n"
     ]
    }
   ],
   "source": [
    "!dirname $(dirname $(readlink -f $(which javac)))"
   ]
  },
  {
   "cell_type": "markdown",
   "metadata": {},
   "source": [
    "### Setting envvar $JAVA_HOME"
   ]
  },
  {
   "cell_type": "code",
   "execution_count": 4,
   "metadata": {},
   "outputs": [
    {
     "name": "stdout",
     "output_type": "stream",
     "text": [
      "env: JAVA_HOME=/usr/lib/jvm/java-8-openjdk-amd64\n"
     ]
    }
   ],
   "source": [
    "%env JAVA_HOME /usr/lib/jvm/java-8-openjdk-amd64"
   ]
  },
  {
   "cell_type": "code",
   "execution_count": 5,
   "metadata": {},
   "outputs": [],
   "source": [
    "!echo \"export JAVA_HOME=/usr/lib/jvm/java-8-openjdk-amd64 \" > .bashrc"
   ]
  },
  {
   "cell_type": "markdown",
   "metadata": {},
   "source": [
    "### Checking envvar"
   ]
  },
  {
   "cell_type": "code",
   "execution_count": 6,
   "metadata": {},
   "outputs": [
    {
     "data": {
      "text/plain": [
       "'/usr/lib/jvm/java-8-openjdk-amd64'"
      ]
     },
     "execution_count": 6,
     "metadata": {},
     "output_type": "execute_result"
    }
   ],
   "source": [
    "%env JAVA_HOME"
   ]
  },
  {
   "cell_type": "markdown",
   "metadata": {},
   "source": [
    "### Starting sshd server\n",
    "\n",
    "Check postBuild and sshd_config files for more details"
   ]
  },
  {
   "cell_type": "code",
   "execution_count": 7,
   "metadata": {},
   "outputs": [],
   "source": [
    "!/usr/sbin/sshd -f resources/configs/ssh/sshd_config "
   ]
  },
  {
   "cell_type": "markdown",
   "metadata": {},
   "source": [
    "### Adding to know hosts by sshing (avoiding yes/no host confirmation)"
   ]
  },
  {
   "cell_type": "code",
   "execution_count": 8,
   "metadata": {},
   "outputs": [
    {
     "name": "stdout",
     "output_type": "stream",
     "text": [
      "Warning: Permanently added '[localhost]:9000' (ECDSA) to the list of known hosts.\n",
      "Warning: Permanently added '[0.0.0.0]:9000' (ECDSA) to the list of known hosts.\n"
     ]
    }
   ],
   "source": [
    "!ssh -o \"StrictHostKeyChecking no\" $USER@localhost -p 9000 -C \"exit\" \n",
    "!ssh -o \"StrictHostKeyChecking no\" $USER@0.0.0.0   -p 9000 -C \"exit\""
   ]
  },
  {
   "cell_type": "code",
   "execution_count": null,
   "metadata": {},
   "outputs": [],
   "source": [
    "! cp resources/configs/hadoop/* hadoop-2.9.2/etc/hadoop/"
   ]
  },
  {
   "cell_type": "markdown",
   "metadata": {},
   "source": []
  },
  {
   "cell_type": "code",
   "execution_count": 25,
   "metadata": {},
   "outputs": [],
   "source": [
    "!./hadoop-2.9.2/bin/hdfs namenode -format -force -nonInteractive"
   ]
  },
  {
   "cell_type": "code",
   "execution_count": null,
   "metadata": {},
   "outputs": [],
   "source": []
  },
  {
   "cell_type": "code",
   "execution_count": 21,
   "metadata": {},
   "outputs": [
    {
     "name": "stdout",
     "output_type": "stream",
     "text": [
      "env: HADOOP_SSH_OPTS=-p 9000\n"
     ]
    }
   ],
   "source": [
    "%env HADOOP_SSH_OPTS -p 9000 "
   ]
  },
  {
   "cell_type": "code",
   "execution_count": 22,
   "metadata": {},
   "outputs": [
    {
     "name": "stdout",
     "output_type": "stream",
     "text": [
      "Stopping namenodes on [localhost]\n",
      "localhost: stopping namenode\n",
      "localhost: namenode did not stop gracefully after 5 seconds: killing with kill -9\n",
      "localhost: stopping datanode\n",
      "localhost: datanode did not stop gracefully after 5 seconds: killing with kill -9\n",
      "Stopping secondary namenodes [0.0.0.0]\n",
      "0.0.0.0: stopping secondarynamenode\n",
      "0.0.0.0: secondarynamenode did not stop gracefully after 5 seconds: killing with kill -9\n",
      "Starting namenodes on [localhost]\n",
      "localhost: starting namenode, logging to /home/jovyan/hadoop-2.9.2/logs/hadoop-jovyan-namenode-jupyter-thedatasociety-2dmybinder-2dhadoop-2dqf72qknj.out\n",
      "localhost: starting datanode, logging to /home/jovyan/hadoop-2.9.2/logs/hadoop-jovyan-datanode-jupyter-thedatasociety-2dmybinder-2dhadoop-2dqf72qknj.out\n",
      "Starting secondary namenodes [0.0.0.0]\n",
      "0.0.0.0: starting secondarynamenode, logging to /home/jovyan/hadoop-2.9.2/logs/hadoop-jovyan-secondarynamenode-jupyter-thedatasociety-2dmybinder-2dhadoop-2dqf72qknj.out\n"
     ]
    }
   ],
   "source": [
    "! ./hadoop-2.9.2/sbin/stop-dfs.sh\n",
    "! ./hadoop-2.9.2/sbin/start-dfs.sh"
   ]
  },
  {
   "cell_type": "code",
   "execution_count": null,
   "metadata": {},
   "outputs": [],
   "source": []
  },
  {
   "cell_type": "code",
   "execution_count": 23,
   "metadata": {},
   "outputs": [
    {
     "name": "stdout",
     "output_type": "stream",
     "text": [
      "mkdir: Failed on local exception: org.apache.hadoop.ipc.RpcException: RPC response exceeds maximum data length; Host Details : local host is: \"jupyter-thedatasociety-2dmybinder-2dhadoop-2dqf72qknj/10.12.45.131\"; destination host is: \"localhost\":9000; \n",
      "mkdir: Failed on local exception: org.apache.hadoop.ipc.RpcException: RPC response exceeds maximum data length; Host Details : local host is: \"jupyter-thedatasociety-2dmybinder-2dhadoop-2dqf72qknj/10.12.45.131\"; destination host is: \"localhost\":9000; \n"
     ]
    }
   ],
   "source": [
    "!./hadoop-2.9.2/bin/hdfs dfs -mkdir /user\n",
    "!./hadoop-2.9.2/bin/hdfs dfs -mkdir /user/matheus"
   ]
  },
  {
   "cell_type": "code",
   "execution_count": null,
   "metadata": {},
   "outputs": [],
   "source": []
  },
  {
   "cell_type": "code",
   "execution_count": 24,
   "metadata": {},
   "outputs": [
    {
     "name": "stdout",
     "output_type": "stream",
     "text": [
      "ls: Failed on local exception: org.apache.hadoop.ipc.RpcException: RPC response exceeds maximum data length; Host Details : local host is: \"jupyter-thedatasociety-2dmybinder-2dhadoop-2dqf72qknj/10.12.45.131\"; destination host is: \"localhost\":9000; \n"
     ]
    }
   ],
   "source": [
    "!./hadoop-2.9.2/bin/hdfs dfs -ls /"
   ]
  },
  {
   "cell_type": "code",
   "execution_count": null,
   "metadata": {},
   "outputs": [],
   "source": []
  },
  {
   "cell_type": "code",
   "execution_count": null,
   "metadata": {},
   "outputs": [],
   "source": []
  }
 ],
 "metadata": {
  "kernelspec": {
   "display_name": "Python 3",
   "language": "python",
   "name": "python3"
  },
  "language_info": {
   "codemirror_mode": {
    "name": "ipython",
    "version": 3
   },
   "file_extension": ".py",
   "mimetype": "text/x-python",
   "name": "python",
   "nbconvert_exporter": "python",
   "pygments_lexer": "ipython3",
   "version": "3.7.3"
  }
 },
 "nbformat": 4,
 "nbformat_minor": 2
}
